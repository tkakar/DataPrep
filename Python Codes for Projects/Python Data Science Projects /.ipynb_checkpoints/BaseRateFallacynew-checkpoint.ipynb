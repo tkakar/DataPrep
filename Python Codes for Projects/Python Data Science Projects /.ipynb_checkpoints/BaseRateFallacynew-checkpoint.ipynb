{
 "metadata": {
  "name": "",
  "signature": "sha256:2a98eb1828c60aa6910de62f57b5a1e05adeef16770a784fe5a2e4e630b5f93c"
 },
 "nbformat": 3,
 "nbformat_minor": 0,
 "worksheets": [
  {
   "cells": [
    {
     "cell_type": "heading",
     "level": 1,
     "metadata": {},
     "source": [
      "Base rate fallacy example"
     ]
    },
    {
     "cell_type": "markdown",
     "metadata": {},
     "source": [
      "In this notenook we work an example of the base rate fallacy using Bayes Theorem.  \n",
      "\n",
      "Assume that we have two random variables $HasDisease$ and $FailsTest$.  $HasDisease=y$ indicates that a person has the disease while $HasDisease=n$ indicates that the person in disease free.  In addition, we have a test which attempts to detect the disease.  $FailsTest=y$ indicates that our test says a person hasthe disease while $FailsTest=n$ indicates that our test says a person does not have the disease. \n",
      "\n",
      "In this notebook you can play around with the probabilities of interest and see now likely it is that, given you fail the test, that you actually have  the disease.\n",
      "\n",
      "Suppose we know the following probabilities:\n",
      "\n",
      "\\begin{align}\n",
      "Pr(FailsTest=y | HasDisease=y) &= FailAndHasDisease \\\\\n",
      "Pr(FailsTest=n | HasDisease=y) &= NotFailAndHasDisease \\\\\n",
      "Pr(FailsTest=y | HasDisease=n) &= FailAndNotHasDisease \\\\\n",
      "Pr(FailsTest=n | HasDisease=n) &= NotFailAndNotHasDisease \\\\\n",
      "\\end{align}\n",
      "\n",
      "And we know the prior probability of the disease in the population\n",
      "\n",
      "$$\n",
      "Pr(HasDisease=y).\n",
      "$$\n",
      "\n",
      "Note, the point of the base rate fallacy is that you need all <i>5</i> probabilities to compute what you are interested in, namely <i>the probability you have the disease given you fail the test</i>, denoted\n",
      "\n",
      "$$\n",
      "Pr(HasDisease=y | FailsTest=y).\n",
      "$$\n",
      "\n",
      "Without, $Pr(HasDisease=y)$ you cannot truly understand  $Pr(HasDisease=y | FailsTest=y)$.\n",
      "\n",
      "You can play aroun with the numbers in the next cell to see how things work out."
     ]
    },
    {
     "cell_type": "code",
     "collapsed": false,
     "input": [
      "FailAndHasDisease = 1.0\n",
      "NotFailAndHasDisease = 0.0\n",
      "FailAndNotHasDisease = 0.01\n",
      "NotFailAndNotHasDisease = 0.99\n",
      "HasDisease = 1./1000"
     ],
     "language": "python",
     "metadata": {},
     "outputs": [],
     "prompt_number": 16
    },
    {
     "cell_type": "markdown",
     "metadata": {},
     "source": [
      "Bayes theorem says that\n",
      "\n",
      "$$\n",
      "Pr(HasDisease=y | FailsTest=y) = \\frac{Pr(FailsTest=y | HasDisease=y) Pr(HasDisease=y)}{Pr(FailsTest=y)}\n",
      "$$\n",
      "\n",
      "Our table gives use the two terms in the numerator, we get the demoninator from the Law of total probability.\n",
      "\n",
      "\\begin{align}\n",
      "Pr(FailsTest=y) & = Pr(FailsTest=y | HasDisease=y) Pr(HasDisease=y) + Pr(FailsTest=y | HasDisease=n) Pr(HasDisease=n) \\\\\n",
      "                & = Pr(FailsTest=y | HasDisease=y) Pr(HasDisease=y) + Pr(FailsTest=y | HasDisease=n) (1- Pr(HasDisease=y))\n",
      "\\end{align}\n",
      "\n",
      "So, the whole thing is\n",
      "\n",
      "$$\n",
      "Pr(HasDisease=y | FailsTest=y) = \\frac{Pr(FailsTest=y | HasDisease=y) Pr(HasDisease=y)}{(Pr(FailsTest=y | HasDisease=y) Pr(HasDisease=y) + Pr(FailsTest=y | HasDisease=n) (1- Pr(HasDisease=y)))}\n",
      "$$"
     ]
    },
    {
     "cell_type": "code",
     "collapsed": false,
     "input": [
      "FailAndHasDisease*HasDisease/(FailAndHasDisease*HasDisease + FailAndNotHasDisease*(1-HasDisease))"
     ],
     "language": "python",
     "metadata": {},
     "outputs": [
      {
       "metadata": {},
       "output_type": "pyout",
       "prompt_number": 17,
       "text": [
        "0.09099181073703368"
       ]
      }
     ],
     "prompt_number": 17
    },
    {
     "cell_type": "markdown",
     "metadata": {},
     "source": [
      "This matches the result we did by hand in class.  Play around with the probabilities and see what you discover."
     ]
    }
   ],
   "metadata": {}
  }
 ]
}