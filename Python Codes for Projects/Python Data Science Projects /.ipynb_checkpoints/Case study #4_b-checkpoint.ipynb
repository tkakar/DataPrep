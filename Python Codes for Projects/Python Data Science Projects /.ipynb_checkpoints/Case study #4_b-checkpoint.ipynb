{
 "metadata": {
  "name": "",
  "signature": "sha256:2151d2be9d8111b810f037955eb961bd0f5ef9ee74950d111e4468517770773d"
 },
 "nbformat": 3,
 "nbformat_minor": 0,
 "worksheets": [
  {
   "cells": [
    {
     "cell_type": "markdown",
     "metadata": {},
     "source": [
      "#Case Study 4 : Yelp Dataset Challenge\n",
      "** Due Date: Dec 8, 11:59PM for Tuesday/Friday Section**\n",
      "\n",
      "** Due Date: Dec. 8, 5:30PM for Monday Section**\n",
      "\n",
      "*------------"
     ]
    },
    {
     "cell_type": "markdown",
     "metadata": {},
     "source": [
      "**TEAM Members:** Please EDIT this cell and add the names of all the team members in your team\n",
      "\n",
      "    Chong Zhou (Andy)\n",
      "    \n",
      "    Diana Batista\n",
      "    \n",
      "    Marcus Moyses\n",
      "    \n",
      "    Tabassum Kakar\n",
      "    \n",
      "    Matthew Curcio"
     ]
    },
    {
     "cell_type": "markdown",
     "metadata": {},
     "source": [
      "\n",
      "\n",
      "** NOTE **\n",
      "* Please don't forget to save the notebook frequently when working in IPython Notebook, otherwise the changes you made can be lost.\n",
      "* This case study is relatively longer than the previous case studies. But you can bollow many ideas from the previous case studies.\n",
      "\n",
      "*----------------------"
     ]
    },
    {
     "cell_type": "heading",
     "level": 1,
     "metadata": {},
     "source": [
      "Problem 1: Data Collection"
     ]
    },
    {
     "cell_type": "markdown",
     "metadata": {},
     "source": [
      "* Download the Yelp Dataset from the http://www.yelp.com/dataset_challenge (Click \"Get the Data\", and register to get data)\n",
      "This data set contains information about 42,153 business, 252,898  users, and 1,125,458 reviews in Phoenix, Las Vegas, Madison, Waterloo and Edinburgh. \n",
      "\n",
      "* Preprocessing can be time consuming but is critical for analyzing big data.\n",
      "\n",
      "* Let's first take a look at the data by loading the json files into IPython notebook \n",
      "* NOTE: the whole dataset can be too big for your computer. If the following codes don't work in your computer, try changing the code by  loading only a few lines of each file."
     ]
    },
    {
     "cell_type": "code",
     "collapsed": false,
     "input": [
      "import json\n",
      "#  Business Data\n",
      "file_business = open('yelp_academic_dataset_business.json')\n",
      "data_business = [json.loads(line) for line in file_business]\n",
      "print \"total number of business: \",len(data_business)\n",
      "print json.dumps(data_business[10000],indent=4)"
     ],
     "language": "python",
     "metadata": {},
     "outputs": [
      {
       "output_type": "stream",
       "stream": "stdout",
       "text": [
        "total number of business:  42153\n",
        "{\n",
        "    \"city\": \"Henderson\", \n",
        "    \"review_count\": 6, \n",
        "    \"name\": \"Henderson Animal Hospital\", \n",
        "    \"neighborhoods\": [], \n",
        "    \"type\": \"business\", \n",
        "    \"business_id\": \"FA8NB9Nvte157tRvmBVW9Q\", \n",
        "    \"full_address\": \"360 S Boulder Hwy\\nHenderson, NV 89015\", \n",
        "    \"hours\": {\n",
        "        \"Monday\": {\n",
        "            \"close\": \"19:00\", \n",
        "            \"open\": \"08:00\"\n",
        "        }, \n",
        "        \"Tuesday\": {\n",
        "            \"close\": \"19:00\", \n",
        "            \"open\": \"08:00\"\n",
        "        }, \n",
        "        \"Friday\": {\n",
        "            \"close\": \"19:00\", \n",
        "            \"open\": \"08:00\"\n",
        "        }, \n",
        "        \"Wednesday\": {\n",
        "            \"close\": \"19:00\", \n",
        "            \"open\": \"08:00\"\n",
        "        }, \n",
        "        \"Thursday\": {\n",
        "            \"close\": \"19:00\", \n",
        "            \"open\": \"08:00\"\n",
        "        }, \n",
        "        \"Sunday\": {\n",
        "            \"close\": \"17:00\", \n",
        "            \"open\": \"00:00\"\n",
        "        }, \n",
        "        \"Saturday\": {\n",
        "            \"close\": \"23:59\", \n",
        "            \"open\": \"21:00\"\n",
        "        }\n",
        "    }, \n",
        "    \"state\": \"NV\", \n",
        "    \"longitude\": -114.976388, \n",
        "    \"stars\": 4.0, \n",
        "    \"latitude\": 36.03551, \n",
        "    \"attributes\": {}, \n",
        "    \"open\": true, \n",
        "    \"categories\": [\n",
        "        \"Veterinarians\", \n",
        "        \"Pets\"\n",
        "    ]\n",
        "}\n"
       ]
      }
     ],
     "prompt_number": 1
    },
    {
     "cell_type": "code",
     "collapsed": false,
     "input": [
      "#  User Data\n",
      "file_user = open('yelp_academic_dataset_user.json')\n",
      "data_user = [json.loads(line) for line in file_user]\n",
      "print \"total number of users: \",len(data_user)\n",
      "print json.dumps(data_user[20000],indent=4)"
     ],
     "language": "python",
     "metadata": {},
     "outputs": [
      {
       "output_type": "stream",
       "stream": "stdout",
       "text": [
        "total number of users:  252898\n",
        "{\n",
        "    \"yelping_since\": \"2013-08\", \n",
        "    \"votes\": {\n",
        "        \"funny\": 10, \n",
        "        \"useful\": 24, \n",
        "        \"cool\": 11\n",
        "    }, \n",
        "    \"user_id\": \"MGejYvHtTho-58vc0PRnqw\", \n",
        "    \"name\": \"Martin\", \n",
        "    \"elite\": [], \n",
        "    \"type\": \"user\", \n",
        "    \"compliments\": {\n",
        "        \"note\": 2, \n",
        "        \"plain\": 10, \n",
        "        \"more\": 1, \n",
        "        \"cool\": 12\n",
        "    }, \n",
        "    \"fans\": 1, \n",
        "    \"average_stars\": 3.58, \n",
        "    \"review_count\": 51, \n",
        "    \"friends\": [\n",
        "        \"LhcGcnw4eHaxzg58y2YYUA\", \n",
        "        \"wtp5CmMVic44bYTBKLjkDg\", \n",
        "        \"h4tfHGODErFCFrg6KEZ3xw\", \n",
        "        \"OA9I8dKT9Uims5rp7YFKzA\", \n",
        "        \"qtC7Yonce-6VryJkJmId0Q\"\n",
        "    ]\n",
        "}\n"
       ]
      }
     ],
     "prompt_number": 2
    },
    {
     "cell_type": "code",
     "collapsed": false,
     "input": [
      "#  Review Data\n",
      "file_review = open('yelp_academic_dataset_review.json')\n",
      "data_review = [json.loads(line) for line in file_review]\n",
      "print \"total number of reviews: \",len(data_review)\n",
      "print json.dumps(data_review[20000],indent=4)"
     ],
     "language": "python",
     "metadata": {},
     "outputs": [
      {
       "output_type": "stream",
       "stream": "stdout",
       "text": [
        "total number of reviews:  1125458\n",
        "{\n",
        "    \"votes\": {\n",
        "        \"funny\": 0, \n",
        "        \"useful\": 0, \n",
        "        \"cool\": 0\n",
        "    }, \n",
        "    \"user_id\": \"0aQyjVmcytcjkiabuhkIgA\", \n",
        "    \"review_id\": \"VG5lptbI1RU2Qo--8qBvIA\", \n",
        "    \"text\": \"Wow. Even on a weekday evening with no one inside, this bar is worth visiting. It's set up speakeasy style with only a placard near the entrance door with the name on it. The inside is very dark and sultry. Lights shine on black and grey photos/ artwork above the bar. There are couches and tables. Our group relaxed on some couches and ordered several drinks off the menu and shared. Their take on the old fashioned was delicious. Though I can't remember the name, the rosemary-topped gin based martini was the absolute best. This place is fancy, for sure, but they don't seem to mind a flip flop before 7 or 8pm. Great services as well.\", \n",
        "    \"business_id\": \"peA3F-PnIfijYr8HuG-A-Q\", \n",
        "    \"stars\": 5, \n",
        "    \"date\": \"2013-07-18\", \n",
        "    \"type\": \"review\"\n",
        "}\n"
       ]
      }
     ],
     "prompt_number": 3
    },
    {
     "cell_type": "markdown",
     "metadata": {},
     "source": [
      "## Question 1: Choose a business category\n",
      "* Select one business *category* that you are interested in, for example, \"Restaurants\", \"Bars\", \"Shopping\", \"Hotels\" or \"Auto Repair\". (Hint: check the **categories** field of each business object.)\n",
      "* Collect all the business entities of the category you selected from the whole dataset. (It would be recommended that the number of business of the category should be larger than 500.) For example, collect all the restaurants, i.e., all the business objects that have \"Restaurants\" in their \"categories\" lists.\n",
      "* Store the business data you collected into a local file (txt file or json file) "
     ]
    },
    {
     "cell_type": "code",
     "collapsed": false,
     "input": [
      "restaurants = [business for business in data_business if 'Restaurants' in business['categories']]\n",
      "print len(restaurants)\n",
      "\n",
      "import io\n",
      "\n",
      "def save_json(filename, data):\n",
      "    with io.open(filename, 'w', encoding='utf-8') as f:\n",
      "        f.write(unicode(json.dumps(data, ensure_ascii=False)))\n",
      "\n",
      "save_json('restaurants.json', restaurants)"
     ],
     "language": "python",
     "metadata": {},
     "outputs": [
      {
       "output_type": "stream",
       "stream": "stdout",
       "text": [
        "14303\n"
       ]
      }
     ],
     "prompt_number": 4
    },
    {
     "cell_type": "markdown",
     "metadata": {},
     "source": [
      "###Report some statistics about the business you collected \n",
      "\n",
      "* The category of interest: **Restaurants**\n",
      "\n",
      "\n",
      "* The total number of business collected: **14303**\n",
      "\n",
      "\n",
      "\n",
      "*----------------------\n",
      "\n",
      "* Plot a histogram of different number of stars for the above business set.\n"
     ]
    },
    {
     "cell_type": "code",
     "collapsed": false,
     "input": [
      "# Please plot a histogram of number of stars for the business set\n",
      "import pandas as pd\n",
      "import matplotlib.pyplot as plt\n",
      "\n",
      "data_restaurants = pd.io.json.json_normalize(restaurants)"
     ],
     "language": "python",
     "metadata": {},
     "outputs": [],
     "prompt_number": 11
    },
    {
     "cell_type": "code",
     "collapsed": false,
     "input": [
      "print data_restaurants.groupby('stars').size()\n",
      "\n",
      "# stars histogram\n",
      "data_restaurants.hist(column='stars', bins=9, align='mid', range=[0.5,5.5])\n",
      "plt.title('Distribution of stars')\n",
      "plt.ylabel('count of stars')\n",
      "plt.xlabel('stars')"
     ],
     "language": "python",
     "metadata": {},
     "outputs": [
      {
       "output_type": "stream",
       "stream": "stdout",
       "text": [
        "stars\n",
        "1.0        36\n",
        "1.5       239\n",
        "2.0       557\n",
        "2.5      1384\n",
        "3.0      2614\n",
        "3.5      4092\n",
        "4.0      3795\n",
        "4.5      1376\n",
        "5.0       210\n",
        "dtype: int64\n"
       ]
      },
      {
       "metadata": {},
       "output_type": "pyout",
       "prompt_number": 6,
       "text": [
        "<matplotlib.text.Text at 0x170aeb690>"
       ]
      },
      {
       "metadata": {},
       "output_type": "display_data",
       "png": "[encoded data removed]",
       "text": [
        "<matplotlib.figure.Figure at 0x170aea690>"
       ]
      }
     ],
     "prompt_number": 6
    },
    {
     "cell_type": "markdown",
     "metadata": {},
     "source": [
      "## Question 2: Collect all the reviews for the business set in Question 1\n",
      "* Collect all the reviews for the business entities you collected in Question 1. (Hint: Use *business_id* to filter the review data file; the data file can be too large to be loaded into the main memory, try to avoid using up all the memory in your computer.)\n",
      "* Store the review data you collected into a local file (txt file or json file) "
     ]
    },
    {
     "cell_type": "code",
     "collapsed": false,
     "input": [
      "restaurant_ids = set()\n",
      "for restaurant in restaurants:\n",
      "    restaurant_ids.add(restaurant['business_id'])\n",
      "\n",
      "restaurant_reviews = [review for review in data_review if review['business_id'] in restaurant_ids]\n",
      "print len(restaurant_reviews)\n",
      "\n",
      "save_json('reviews.json', restaurant_reviews)"
     ],
     "language": "python",
     "metadata": {},
     "outputs": [
      {
       "output_type": "stream",
       "stream": "stdout",
       "text": [
        "706646\n"
       ]
      }
     ],
     "prompt_number": 6
    },
    {
     "cell_type": "markdown",
     "metadata": {},
     "source": [
      "###Report some statistics about the reviews you collected \n",
      "\n",
      "* The total number of reviews collected: **706646**\n",
      "\n",
      "\n",
      "\n",
      "*----------------------\n",
      "\n",
      "* Plot a histogram of different number of stars for the review set.\n"
     ]
    },
    {
     "cell_type": "code",
     "collapsed": false,
     "input": [
      "data_reviews = pd.io.json.json_normalize(restaurant_reviews)"
     ],
     "language": "python",
     "metadata": {},
     "outputs": [],
     "prompt_number": 8
    },
    {
     "cell_type": "code",
     "collapsed": false,
     "input": [
      "print data_reviews.groupby('stars').size()\n",
      "\n",
      "# stars histogram\n",
      "data_reviews.hist(column='stars', bins=5, align='mid', range=[0.5,5.5])\n",
      "plt.title('Distribution of stars')\n",
      "plt.ylabel('count of stars')\n",
      "plt.xlabel('stars')"
     ],
     "language": "python",
     "metadata": {},
     "outputs": [
      {
       "output_type": "stream",
       "stream": "stdout",
       "text": [
        "stars\n",
        "1         60450\n",
        "2         70284\n",
        "3        111213\n",
        "4        231368\n",
        "5        233331\n",
        "dtype: int64\n"
       ]
      },
      {
       "metadata": {},
       "output_type": "pyout",
       "prompt_number": 9,
       "text": [
        "<matplotlib.text.Text at 0x170afb050>"
       ]
      },
      {
       "metadata": {},
       "output_type": "display_data",
       "png": "[encoded data removed]",
       "text": [
        "<matplotlib.figure.Figure at 0x174401b90>"
       ]
      }
     ],
     "prompt_number": 9
    },
    {
     "cell_type": "markdown",
     "metadata": {},
     "source": [
      "*----------------------\n",
      "\n",
      "* Collect all the text data in these reviews (Hint: check the *text* field of the review objects)\n",
      "\n",
      "* Use the TfidVectorizer class on the text data above, and convert each review into a feature vector.\n",
      "\n"
     ]
    },
    {
     "cell_type": "code",
     "collapsed": false,
     "input": [
      "five_stars_reviews = [review['text'].replace('\\n', ' ') for review in restaurant_reviews if review['stars'] == 5]\n",
      "four_stars_reviews = [review['text'].replace('\\n', ' ') for review in restaurant_reviews if review['stars'] == 4]\n",
      "three_stars_reviews = [review['text'].replace('\\n', ' ') for review in restaurant_reviews if review['stars'] == 3]\n",
      "two_stars_reviews = [review['text'].replace('\\n', ' ') for review in restaurant_reviews if review['stars'] == 2]\n",
      "one_star_reviews = [review['text'].replace('\\n', ' ') for review in restaurant_reviews if review['stars'] == 1]"
     ],
     "language": "python",
     "metadata": {},
     "outputs": [],
     "prompt_number": 10
    },
    {
     "cell_type": "code",
     "collapsed": false,
     "input": [
      "from sklearn.feature_extraction.text import TfidfVectorizer\n",
      "\n",
      "tfidf = TfidfVectorizer(stop_words='english')\n",
      "\n",
      "transformed = tfidf.fit_transform(five_stars_reviews + four_stars_reviews + three_stars_reviews + two_stars_reviews + one_star_reviews)\n",
      "features = tfidf.get_feature_names()\n",
      "print transformed.shape"
     ],
     "language": "python",
     "metadata": {},
     "outputs": [
      {
       "output_type": "stream",
       "stream": "stdout",
       "text": [
        "(706646, 192695)\n"
       ]
      }
     ],
     "prompt_number": 11
    },
    {
     "cell_type": "markdown",
     "metadata": {},
     "source": [
      "*----------------------\n",
      "\n",
      "* Plot a table of the most frequent words (as least top 10, please remove the stop words by setting max_df to some reasonable value) for all the reviews with FIVE stars.\n",
      "* Plot a similar table for all reviews with FOUR stars.\n",
      "* Then three stars, two stars, and one stars.\n",
      "\n",
      "\n"
     ]
    },
    {
     "cell_type": "code",
     "collapsed": false,
     "input": [
      "from sklearn.feature_extraction.text import CountVectorizer\n",
      "import operator\n",
      "from prettytable import PrettyTable\n",
      "\n",
      "count = CountVectorizer(max_df=0.8, stop_words='english')\n",
      "\n",
      "reviews = [five_stars_reviews, four_stars_reviews, three_stars_reviews, two_stars_reviews, one_star_reviews]\n",
      "j = 5\n",
      "for review in reviews:\n",
      "    transformed = count.fit_transform(review)\n",
      "    features = count.get_feature_names()\n",
      "\n",
      "    f = {}\n",
      "    counts = transformed.sum(0)\n",
      "    for i in range(len(features)):\n",
      "        f[features[i]] = counts[0,i]\n",
      "    sorted_features = sorted(f.items(), key=operator.itemgetter(1), reverse=True)\n",
      "\n",
      "    print 'Most frequent words for ' + str(j) + '-star reviews:'\n",
      "    pt = PrettyTable(field_names=['Word', 'Count'])\n",
      "    [ pt.add_row(kv) for kv in sorted_features[0:10] ]\n",
      "    pt.align['Word'], pt.align['Count'] = 'l', 'r'\n",
      "    print pt\n",
      "    print\n",
      "    j -= 1"
     ],
     "language": "python",
     "metadata": {},
     "outputs": [
      {
       "output_type": "stream",
       "stream": "stdout",
       "text": [
        "Most frequent words for 5-star reviews:\n",
        "+---------+--------+\n",
        "| Word    |  Count |\n",
        "+---------+--------+\n",
        "| food    | 167972 |\n",
        "| place   | 151285 |\n",
        "| great   | 144019 |\n",
        "| good    | 129171 |\n",
        "| service |  83136 |\n",
        "| like    |  81611 |\n",
        "| just    |  80959 |\n",
        "| best    |  78067 |\n",
        "| time    |  71197 |\n",
        "| love    |  66310 |\n",
        "+---------+--------+\n",
        "\n",
        "Most frequent words for 4-star reviews:"
       ]
      },
      {
       "output_type": "stream",
       "stream": "stdout",
       "text": [
        "\n",
        "+---------+--------+\n",
        "| Word    |  Count |\n",
        "+---------+--------+\n",
        "| good    | 214339 |\n",
        "| food    | 173755 |\n",
        "| place   | 149062 |\n",
        "| great   | 133700 |\n",
        "| like    | 107674 |\n",
        "| just    |  91032 |\n",
        "| really  |  85823 |\n",
        "| service |  85113 |\n",
        "| time    |  77347 |\n",
        "| nice    |  58848 |\n",
        "+---------+--------+\n",
        "\n",
        "Most frequent words for 3-star reviews:"
       ]
      },
      {
       "output_type": "stream",
       "stream": "stdout",
       "text": [
        "\n",
        "+---------+--------+\n",
        "| Word    |  Count |\n",
        "+---------+--------+\n",
        "| good    | 115598 |\n",
        "| food    | 101276 |\n",
        "| place   |  73797 |\n",
        "| like    |  65015 |\n",
        "| just    |  63307 |\n",
        "| service |  48891 |\n",
        "| really  |  46887 |\n",
        "| great   |  41579 |\n",
        "| time    |  39914 |\n",
        "| pretty  |  34903 |\n",
        "+---------+--------+\n",
        "\n",
        "Most frequent words for 2-star reviews:"
       ]
      },
      {
       "output_type": "stream",
       "stream": "stdout",
       "text": [
        "\n",
        "+---------+-------+\n",
        "| Word    | Count |\n",
        "+---------+-------+\n",
        "| food    | 75010 |\n",
        "| good    | 53810 |\n",
        "| place   | 47723 |\n",
        "| just    | 45830 |\n",
        "| like    | 44682 |\n",
        "| service | 35183 |\n",
        "| really  | 28831 |\n",
        "| time    | 28706 |\n",
        "| ordered | 27636 |\n",
        "| order   | 22135 |\n",
        "+---------+-------+\n",
        "\n",
        "Most frequent words for 1-star reviews:"
       ]
      },
      {
       "output_type": "stream",
       "stream": "stdout",
       "text": [
        "\n",
        "+------------+-------+\n",
        "| Word       | Count |\n",
        "+------------+-------+\n",
        "| food       | 63700 |\n",
        "| place      | 41749 |\n",
        "| like       | 33460 |\n",
        "| just       | 32615 |\n",
        "| service    | 30396 |\n",
        "| good       | 26839 |\n",
        "| time       | 25321 |\n",
        "| order      | 23283 |\n",
        "| ordered    | 22714 |\n",
        "| restaurant | 19319 |\n",
        "+------------+-------+\n",
        "\n"
       ]
      }
     ],
     "prompt_number": 14
    },
    {
     "cell_type": "markdown",
     "metadata": {},
     "source": [
      "## Question 3: Collect all the users for the review set in Question 2\n",
      "* Collect all the users for the reviews you collected in Question 2. (Hint: Use *user_id* to filter the user data file)\n",
      "* Store the user data you collected into a local file (txt file or json file) "
     ]
    },
    {
     "cell_type": "code",
     "collapsed": false,
     "input": [
      "user_ids = set()\n",
      "for review in restaurant_reviews:\n",
      "    user_ids.add(review['user_id'])\n",
      "\n",
      "reviewers = [user for user in data_user if user['user_id'] in user_ids]\n",
      "print len(reviewers)\n",
      "\n",
      "save_json('users.json', reviewers)"
     ],
     "language": "python",
     "metadata": {},
     "outputs": [
      {
       "output_type": "stream",
       "stream": "stdout",
       "text": [
        "185469\n"
       ]
      }
     ],
     "prompt_number": 15
    },
    {
     "cell_type": "markdown",
     "metadata": {},
     "source": [
      "###Report some statistics about the users you collected \n",
      "\n",
      "* The total number of users collected: **185469**\n",
      "\n",
      "\n",
      "\n",
      "*----------------------\n",
      "\n",
      "* Plot a histogram of different review_count for the user set.\n",
      "* Plot a histogram of different average_stars for the user set.\n",
      "* Plot a histogram of different number of friends for the user set."
     ]
    },
    {
     "cell_type": "code",
     "collapsed": false,
     "input": [
      "data_users = pd.io.json.json_normalize(reviewers)"
     ],
     "language": "python",
     "metadata": {},
     "outputs": [],
     "prompt_number": 16
    },
    {
     "cell_type": "code",
     "collapsed": false,
     "input": [
      "import matplotlib.pylab as py\n",
      "\n",
      "print data_users.groupby('review_count').size()\n",
      "\n",
      "# review_count histogram\n",
      "data_users.hist(column='review_count', bins=20, align='mid')\n",
      "plt.title('Distribution of review counts (total)')\n",
      "plt.ylabel('users')\n",
      "plt.xlabel('number of reviews')\n",
      "# zoom on first bin\n",
      "data_users.hist(column='review_count', bins=20, align='mid', range=[0,100])\n",
      "plt.title('Distribution of review counts (0-100)')\n",
      "plt.ylabel('users')\n",
      "plt.xlabel('number of reviews')"
     ],
     "language": "python",
     "metadata": {},
     "outputs": [
      {
       "output_type": "stream",
       "stream": "stdout",
       "text": [
        "review_count\n",
        "0                   1\n",
        "1               19851\n",
        "2               17384\n",
        "3               13764\n",
        "4               10852\n",
        "5                9020\n",
        "6                7837\n",
        "7                6488\n",
        "8                5672\n",
        "9                4907\n",
        "10               4232\n",
        "11               3766\n",
        "12               3384\n",
        "13               3014\n",
        "14               2792\n",
        "...\n",
        "2684            1\n",
        "2715            1\n",
        "2776            1\n",
        "2823            1\n",
        "2898            1\n",
        "2928            1\n",
        "3073            1\n",
        "3153            1\n",
        "3155            1\n",
        "3324            1\n",
        "3330            1\n",
        "3337            1\n",
        "3790            1\n",
        "3829            1\n",
        "4244            1\n",
        "Length: 1236, dtype: int64\n"
       ]
      },
      {
       "metadata": {},
       "output_type": "pyout",
       "prompt_number": 17,
       "text": [
        "<matplotlib.text.Text at 0x1a5cac4d0>"
       ]
      },
      {
       "metadata": {},
       "output_type": "display_data",
       "png": "[encoded data removed]",
       "text": [
        "<matplotlib.figure.Figure at 0x19d8fdf90>"
       ]
      },
      {
       "metadata": {},
       "output_type": "display_data",
       "png": "[encoded data removed]",
       "text": [
        "<matplotlib.figure.Figure at 0x1a6075a90>"
       ]
      }
     ],
     "prompt_number": 17
    },
    {
     "cell_type": "code",
     "collapsed": false,
     "input": [
      "print data_users.groupby('average_stars').size()\n",
      "\n",
      "# average_stars histogram\n",
      "data_users.hist(column='average_stars', bins=100, align='mid')\n",
      "plt.title('Distribution of average stars')\n",
      "plt.ylabel('users')\n",
      "plt.xlabel('average stars')"
     ],
     "language": "python",
     "metadata": {},
     "outputs": [
      {
       "output_type": "stream",
       "stream": "stdout",
       "text": [
        "average_stars\n",
        "0.00               38\n",
        "1.00             6808\n",
        "1.09                1\n",
        "1.11                2\n",
        "1.12                2\n",
        "1.14                3\n",
        "1.15                1\n",
        "1.17               19\n",
        "1.20               27\n",
        "1.21                2\n",
        "1.22                2\n",
        "1.23                1\n",
        "1.24                1\n",
        "1.25               77\n",
        "1.27                3\n",
        "...\n",
        "4.85                46\n",
        "4.86               270\n",
        "4.87                29\n",
        "4.88               170\n",
        "4.89                93\n",
        "4.90                60\n",
        "4.91                72\n",
        "4.92                53\n",
        "4.93                40\n",
        "4.94                20\n",
        "4.95                23\n",
        "4.96                 8\n",
        "4.97                 7\n",
        "4.98                 2\n",
        "5.00             20968\n",
        "Length: 375, dtype: int64\n"
       ]
      },
      {
       "metadata": {},
       "output_type": "pyout",
       "prompt_number": 18,
       "text": [
        "<matplotlib.text.Text at 0x19d8fd110>"
       ]
      },
      {
       "metadata": {},
       "output_type": "display_data",
       "png": "[encoded data removed]",
       "text": [
        "<matplotlib.figure.Figure at 0x1a4bc7f10>"
       ]
      }
     ],
     "prompt_number": 18
    },
    {
     "cell_type": "code",
     "collapsed": false,
     "input": [
      "data_users['number_friends'] = data_users['friends'].apply(len)\n",
      "print data_users.groupby('number_friends').size()\n",
      "\n",
      "# number of friends histogram\n",
      "data_users.hist(column='number_friends', bins=20, align='mid')\n",
      "plt.title('Distribution of number of friends (total)')\n",
      "plt.ylabel('users')\n",
      "plt.xlabel('number of friends')\n",
      "\n",
      "# zoom on first bin\n",
      "data_users.hist(column='number_friends', bins=20, align='mid', range=[0,100])\n",
      "plt.title('Distribution of number of friends (0-100)')\n",
      "plt.ylabel('users')\n",
      "plt.xlabel('number of friends')"
     ],
     "language": "python",
     "metadata": {},
     "outputs": [
      {
       "output_type": "stream",
       "stream": "stdout",
       "text": [
        "number_friends\n",
        "0                 87184\n",
        "1                 22904\n",
        "2                 12898\n",
        "3                  8720\n",
        "4                  6452\n",
        "5                  4984\n",
        "6                  4194\n",
        "7                  3291\n",
        "8                  2766\n",
        "9                  2404\n",
        "10                 1998\n",
        "11                 1751\n",
        "12                 1622\n",
        "13                 1395\n",
        "14                 1310\n",
        "...\n",
        "1748              1\n",
        "1767              1\n",
        "1773              1\n",
        "1783              1\n",
        "1827              1\n",
        "1958              1\n",
        "1972              1\n",
        "1978              1\n",
        "2017              1\n",
        "2159              1\n",
        "2249              1\n",
        "2550              1\n",
        "2551              1\n",
        "2561              1\n",
        "2875              1\n",
        "Length: 672, dtype: int64\n"
       ]
      },
      {
       "metadata": {},
       "output_type": "pyout",
       "prompt_number": 19,
       "text": [
        "<matplotlib.text.Text at 0x171e3cd10>"
       ]
      },
      {
       "metadata": {},
       "output_type": "display_data",
       "png": "[encoded data removed]",
       "text": [
        "<matplotlib.figure.Figure at 0x171efc650>"
       ]
      },
      {
       "metadata": {},
       "output_type": "display_data",
       "png": "[encoded data removed]",
       "text": [
        "<matplotlib.figure.Figure at 0x173382350>"
       ]
      }
     ],
     "prompt_number": 19
    },
    {
     "cell_type": "markdown",
     "metadata": {},
     "source": [
      "*______________________"
     ]
    },
    {
     "cell_type": "heading",
     "level": 1,
     "metadata": {},
     "source": [
      "Problem 2: MapReduce Data Analysis"
     ]
    },
    {
     "cell_type": "markdown",
     "metadata": {},
     "source": [
      "*----------------------\n",
      "\n",
      "* Store the text data of all the collected reviews into a local txt file, where each line of the file contains the text of one review.\n",
      "\n",
      "* Convert the above txt file into TFIDF format using MapReduce. (Hint: use *mrjob* package) Please write your answers into the python file: \"mr_tfidf.py\"\n",
      "\n",
      "* NOTE: you may need to work on this question by runing the python file (\"mr_tfidf.py\") in the terminal (not in IPython notebook)\n",
      "\n",
      "* Hint: you could test the correctness of your code by comparing with the result from TfidVectorizer in the Problem 1 with the result from MapReduce. The two results should be the same.  Note that if the stop words were removed in TfidVectorizer by setting some max_df, the MapReduce version should also remove these stop words. Otherwise the results of TfidVectorizer and MapReduce will be different.) \n"
     ]
    },
    {
     "cell_type": "code",
     "collapsed": false,
     "input": [
      "# Store the text data of all collected reviews into a local txt file\n",
      "def save_txt(filename, data):\n",
      "    with io.open(filename, 'w', encoding='utf-8') as f:\n",
      "        f.write(unicode(data))\n",
      "\n",
      "content = '\\n'.join(five_stars_reviews + four_stars_reviews + three_stars_reviews + two_stars_reviews + one_star_reviews)\n",
      "save_txt('reviews.txt', content)\n",
      "\n",
      "# Then Edit the mr_tfidf.py file to work on the MapReduce implementation of TFIDF"
     ],
     "language": "python",
     "metadata": {},
     "outputs": [],
     "prompt_number": 21
    },
    {
     "cell_type": "markdown",
     "metadata": {},
     "source": [
      "*__________________"
     ]
    },
    {
     "cell_type": "heading",
     "level": 1,
     "metadata": {},
     "source": [
      "Problem 3: Finding Important Users through PageRank Algorithm"
     ]
    },
    {
     "cell_type": "markdown",
     "metadata": {},
     "source": [
      "*----------------------\n",
      "\n",
      "* Convert the friendship information among the users into a graph, where each node is a user, each edge represents the friendship relationship between the two users.\n",
      "\n",
      "* Compute the PageRank scores of each user using PageRank algorithm (Note: please implement the PageRank algorithm by yourself, but you could read and learn from the following code: https://code.google.com/p/python-graph/source/browse/trunk/core/pygraph/algorithms/pagerank.py?r=702)"
     ]
    },
    {
     "cell_type": "code",
     "collapsed": false,
     "input": [
      "class Node():\n",
      "    def __init__(self, user_id, friends):\n",
      "        self.user_id = user_id\n",
      "        self.friends = friends\n",
      "        self.page_rank = 0\n",
      "\n",
      "nodes = [Node(user['user_id'], user['friends']) for user in data_user if len(user['friends']) > 1]\n",
      "print 'Initial nodes:', len(nodes)"
     ],
     "language": "python",
     "metadata": {},
     "outputs": [
      {
       "output_type": "stream",
       "stream": "stdout",
       "text": [
        "Initial nodes: 92963\n"
       ]
      }
     ],
     "prompt_number": 3
    },
    {
     "cell_type": "code",
     "collapsed": false,
     "input": [
      "# I don't recommend running this part again. Took me several hours to finish\n",
      "ids = {}\n",
      "i = 0\n",
      "for node in nodes:\n",
      "    ids[node.user_id] = i\n",
      "    i += 1\n",
      "# cleaning nodes with no output    \n",
      "for node in nodes:\n",
      "    node.friends = [friend for friend in node.friends if friend in ids.keys()]"
     ],
     "language": "python",
     "metadata": {},
     "outputs": [],
     "prompt_number": 4
    },
    {
     "cell_type": "code",
     "collapsed": false,
     "input": [
      "toremove = [node.user_id for node in nodes if len(node.friends) == 0]\n",
      "toremoveids = [ids[user] for user in toremove]\n",
      "toremoveids = sorted(toremoveids, reverse=True)\n",
      "for i in toremoveids:\n",
      "    nodes.pop(i)\n",
      "for user in toremove:\n",
      "    ids.pop(user, None)\n",
      "ids = {}\n",
      "i = 0\n",
      "for node in nodes:\n",
      "    ids[node.user_id] = i\n",
      "    i += 1"
     ],
     "language": "python",
     "metadata": {},
     "outputs": [],
     "prompt_number": 16
    },
    {
     "cell_type": "code",
     "collapsed": false,
     "input": [
      "print 'Final nodes:', len(nodes)"
     ],
     "language": "python",
     "metadata": {},
     "outputs": [
      {
       "output_type": "stream",
       "stream": "stdout",
       "text": [
        "Final nodes: 92817\n"
       ]
      }
     ],
     "prompt_number": 43
    },
    {
     "cell_type": "code",
     "collapsed": false,
     "input": [
      "from scipy.sparse import coo_matrix\n",
      "\n",
      "size = len(nodes)\n",
      "data = []\n",
      "rows = []\n",
      "columns = []\n",
      "j = 0\n",
      "for node in nodes:\n",
      "    value = 1.0/len(node.friends)\n",
      "    for friend in node.friends:\n",
      "        i = ids[friend]\n",
      "        rows.append(i)\n",
      "        columns.append(j)\n",
      "        data.append(value)\n",
      "    j += 1\n",
      "H = coo_matrix((data, (rows,columns)), shape=(size,size))\n",
      "I = np.zeros((1, size))\n",
      "I[0,0] = 1.0"
     ],
     "language": "python",
     "metadata": {},
     "outputs": [],
     "prompt_number": 18
    },
    {
     "cell_type": "code",
     "collapsed": false,
     "input": [
      "previous = H.sum()\n",
      "for i in range(100):\n",
      "    I = I*H\n",
      "    total = I.sum()\n",
      "    if previous - total < 0.001:\n",
      "        break\n",
      "    else:\n",
      "        previous = total"
     ],
     "language": "python",
     "metadata": {},
     "outputs": [],
     "prompt_number": 30
    },
    {
     "cell_type": "code",
     "collapsed": false,
     "input": [
      "pagerank = {}\n",
      "for i in range(len(nodes)):\n",
      "    pagerank[nodes[i].user_id] = I[0,i]\n",
      "save_json('pagerank.json', pagerank)"
     ],
     "language": "python",
     "metadata": {},
     "outputs": [],
     "prompt_number": 37
    },
    {
     "cell_type": "markdown",
     "metadata": {},
     "source": [
      "*----------------------\n",
      "\n",
      "* Plot a table of the top 30 users with the largest PageRank scores and their PageRank scores\n"
     ]
    },
    {
     "cell_type": "code",
     "collapsed": false,
     "input": [
      "sorted_pagerank = sorted(pagerank.items(), key=operator.itemgetter(1), reverse=True)\n",
      "pt = PrettyTable(field_names=['User', 'PageRank'])\n",
      "[ pt.add_row(kv) for kv in sorted_pagerank[0:30] ]\n",
      "pt.align['User'], pt.align['PageRank'] = 'l', 'r'\n",
      "print pt"
     ],
     "language": "python",
     "metadata": {},
     "outputs": [
      {
       "output_type": "stream",
       "stream": "stdout",
       "text": [
        "+------------------------+-------------------+\n",
        "| User                   |          PageRank |\n",
        "+------------------------+-------------------+\n",
        "| ijdweqHdVkyRdMuXP4G6ug | 1.10827025517e-05 |\n",
        "| ULWlANZBaXWmVgSAQmPTCQ | 1.10827025517e-05 |\n",
        "| yt1XLa14jZnheVKNM79hhw | 1.06322583694e-05 |\n",
        "| X3HCLCLIzB6az3yt2_2Trg | 1.05572928068e-05 |\n",
        "| HVtu4cmFD3qaXChuTj4oXw | 1.02159500468e-05 |\n",
        "| nGpvMTuzAIPybnDhatPqxg | 9.86747730081e-06 |\n",
        "| aPiYymY9fkZBkv_uWqeeRQ | 9.81953561066e-06 |\n",
        "| PZWSHZg7TJu0L40w1sOJXg | 9.55431051905e-06 |\n",
        "| Kn-cMpOKUwrX3vjjvW3I_w | 9.47772060718e-06 |\n",
        "| iXGSl6C20Ar2MVpXvUEQlw | 9.42294728542e-06 |\n",
        "| -IVcUaIZzAQ_hOrw6A8q1w | 9.37054343629e-06 |\n",
        "| canVp4Okw6_w_uVuzUBWZQ | 9.35695899983e-06 |\n",
        "| 7zrrPIQAIGTT-rj9efaO0g | 9.30459441366e-06 |\n",
        "| Y5ueHP4ZHrsN0TxBYlnxBg | 9.27730477201e-06 |\n",
        "| XHwXdrrN3SZb4_tmMgnLvA | 9.27043736777e-06 |\n",
        "| wkGdq_wwF5a_9hXdC12yAg | 9.27038246796e-06 |\n",
        "| 7w9XLgqBmlJ_vAYqY6MIzg | 9.23788720174e-06 |\n",
        "| Jdq2FiBlyGz-AfpYb_rzYQ | 9.23788720174e-06 |\n",
        "| g1k4nKF6YyZDcrSGKsntUQ | 9.23661190313e-06 |\n",
        "| wOC8y3SHZgUwNCmKl6Fx5Q | 9.19250712394e-06 |\n",
        "| mnhXXrusIPabzj1W1oopRg | 9.16781100542e-06 |\n",
        "| cF3dN1W98U1r9kVRWshXCw | 9.16686589833e-06 |\n",
        "| NfiPbkF3xOYEJcYRNx0nbA | 9.16403665399e-06 |\n",
        "| qJpdaLXifTe_uQNGsj0nuw | 9.15134054418e-06 |\n",
        "| 8MKaHKIgybciD2Wi0kwYHQ | 9.14751630669e-06 |\n",
        "| WHiMT8mkMvntdIDzP-xyjA | 9.09515438464e-06 |\n",
        "| OkHW5KOG2E6eNm02KwYbeA | 9.09515438464e-06 |\n",
        "| 3GUlyIioGwUYnNaJUCU68A | 9.07557526516e-06 |\n",
        "| s9sBycDlmEvHt5bt8fpoyw | 9.07557526516e-06 |\n",
        "| Br6uVLwhI4lr8wfuD85YHg | 9.04544714197e-06 |\n",
        "+------------------------+-------------------+\n"
       ]
      }
     ],
     "prompt_number": 42
    },
    {
     "cell_type": "heading",
     "level": 1,
     "metadata": {},
     "source": [
      "Problem 4: Reweighting the review scores based upon user's PageRank scores"
     ]
    },
    {
     "cell_type": "markdown",
     "metadata": {},
     "source": [
      "*  In the current setting of Yelp, all users are considered as equally important. So the average_star of a business is computed by giving all reviews with equal importance. However, in many cases, the reviews of important users are more influential than those of unimportant users. In this problem, please re-compute the avearage  stars of each business through re-weighting each review by users's PageRank scores. \n",
      "\n",
      "* For example, suppose we have a business with three reviews ($r_1$, $r_2$, $r_3$) from three users ($u_1$, $u_2$, $u_3$).\n",
      "The stars in these three reviews are (2 stars, 3 stars, 4 stars), and the average star for the business was $\\frac{2*1+3*1+4*1}{1+1+1} = 3$.  However, suppose we know the PageRank score of the three users are (0.01, 0.1, 0.8), then after reweighting the reviews, the weighted average star of the business should be $\\frac{2*0.01 + 3*0.1 + 4*0.8}{0.01+0.1+0.8}=3.87$"
     ]
    },
    {
     "cell_type": "code",
     "collapsed": false,
     "input": [
      "# load from json so we don't have to run the previous part again\n",
      "def load_json(filename):\n",
      "    with io.open(filename, encoding='utf-8') as f:\n",
      "        return json.loads(f.read())\n",
      "pagerank = load_json('pagerank.json')"
     ],
     "language": "python",
     "metadata": {},
     "outputs": [],
     "prompt_number": 7
    },
    {
     "cell_type": "code",
     "collapsed": false,
     "input": [
      "# this part also takes a long time to run\n",
      "business_reviews = {}\n",
      "for i in range(len(restaurant_reviews)):\n",
      "    bus_id = restaurant_reviews[i]['business_id']\n",
      "    if bus_id in business_reviews.keys():\n",
      "        business_reviews[bus_id].append(i)\n",
      "    else:\n",
      "        business_reviews[bus_id] = [i]\n",
      "business_stars = {}\n",
      "for business in business_reviews:\n",
      "    weights = 0.0\n",
      "    value = 0.0\n",
      "    for review in business_reviews[business]:\n",
      "        user = restaurant_reviews[review]['user_id']\n",
      "        if user in pagerank.keys():\n",
      "            value += restaurant_reviews[review]['stars']*pagerank[user]\n",
      "            weights += pagerank[user]\n",
      "    if not weights == 0.0:\n",
      "        business_stars[business] = value/weights\n",
      "    else:\n",
      "        business_stars[business] = 0.0"
     ],
     "language": "python",
     "metadata": {},
     "outputs": [],
     "prompt_number": 8
    },
    {
     "cell_type": "markdown",
     "metadata": {},
     "source": [
      "* Compute the difference between the new average_star (weighted by PageRank) and the original average_star of each business\n",
      "* Plot a table of the top 20 business entities with the largest differences in average_star"
     ]
    },
    {
     "cell_type": "code",
     "collapsed": false,
     "input": [
      "from prettytable import PrettyTable\n",
      "import operator"
     ],
     "language": "python",
     "metadata": {},
     "outputs": [],
     "prompt_number": 9
    },
    {
     "cell_type": "code",
     "collapsed": false,
     "input": [
      "import math\n",
      "\n",
      "diff_stars = {}\n",
      "for restaurant in restaurants:\n",
      "    bus_id = restaurant['business_id']\n",
      "    if bus_id in business_stars and business_stars[bus_id] > 0.0:\n",
      "        diff_stars[bus_id] = math.fabs(business_stars[bus_id] - restaurant['stars'])\n",
      "sorted_diff = sorted(diff_stars.items(), key=operator.itemgetter(1), reverse=True)\n",
      "pt = PrettyTable(field_names=['Business', 'DiffStars'])\n",
      "[ pt.add_row(kv) for kv in sorted_diff[0:20] ]\n",
      "pt.align['Business'], pt.align['DiffStars'] = 'l', 'r'\n",
      "print pt"
     ],
     "language": "python",
     "metadata": {},
     "outputs": [
      {
       "output_type": "stream",
       "stream": "stdout",
       "text": [
        "+------------------------+-----------+\n",
        "| Business               | DiffStars |\n",
        "+------------------------+-----------+\n",
        "| 4OQXZon69AkUF-aLXEGImA |       3.0 |\n",
        "| M64kwBY4TpEcWZEntCjFeA |       3.0 |\n",
        "| m4iGF1rnT-1njGJgq8JLMw |       3.0 |\n",
        "| WFGzpzwJ5vjKP_7jQRr6GA |       3.0 |\n",
        "| eYR7445A5_tF2NMu8EgJig |       3.0 |\n",
        "| JRa9McAeE1W7XyoLNaGI3g |       2.5 |\n",
        "| ua43cqEVmk7ric3WvasxRA |       2.5 |\n",
        "| MNvWKHVUD9Kbo39tnDTLHg |       2.5 |\n",
        "| A01nkmSFV2W8U5lHPd_XXQ |       2.5 |\n",
        "| SRkFgiyXb7NlCox9WxltvQ |       2.5 |\n",
        "| yYIEKwgQUHJpySOcVdCAkg |       2.5 |\n",
        "| O7YoGLwEzuk-P9KhL1TO7A |       2.5 |\n",
        "| UVfEsqC40smSaMSaIZchdg |       2.5 |\n",
        "| CfzLgTgXh3Je6Xz9e8k4pQ |       2.5 |\n",
        "| m0qh4NO0fD16eVS2np6aNw |       2.5 |\n",
        "| tknSVf98dX2UbJtpm8o_gg |       2.5 |\n",
        "| 5rLrDmE3p2X6SWXgOzP-cw |       2.5 |\n",
        "| sx3iUAQ_zmHu3Klb8zoHPA |       2.5 |\n",
        "| zNR_f_-Y89Hh6kQ5VoRy6g |       2.5 |\n",
        "| QcT3a_2l7wbK62nCdHBkZA |       2.5 |\n",
        "+------------------------+-----------+\n"
       ]
      }
     ],
     "prompt_number": 19
    },
    {
     "cell_type": "markdown",
     "metadata": {},
     "source": [
      "*-----------------\n",
      "# Done\n",
      "\n",
      "All set! \n",
      "\n",
      "** What do you need to submit?**\n",
      "\n",
      "* **Notebook File**: Save this IPython notebook, and find the notebook file in your folder (for example, \"filename.ipynb\"). This is the file you need to submit. Please make sure all the plotted tables and figures are in the notebook. If you used \"ipython notebook --pylab=inline\" to open the notebook, all the figures and tables should have shown up in the notebook.\n",
      "\n",
      "* **mr_tfidf.py File**: please include the mr_tfidf.py file.\n",
      "\n",
      "* ** Report**: please prepare a report (less than 10 pages) to report what you found in the data.\n",
      "    * What business category did you select? Why it is interesting?\n",
      "    * What did you find in the data? \n",
      "     (please include figures or tables in the report, but no source code)\n",
      "* **PPT Slides**: please prepare PPT slides (for 10 minutes' talk) to present about the case study . We will ask two teams which are randomly selected to present their case studies in class for this case study. \n",
      "\n",
      "Please compress all the files in a zipped file.\n",
      "\n",
      "\n",
      "** How to submit: **\n",
      "\n",
      "        [Tuesday/Friday Session]: Send an email to xkong@wpi.edu with the subject: \"[DS501_f14a] Case study 4\".\n",
      "        [Monday Session]: Send an email to xkong@wpi.edu with the subject: \"[DS501_f14e] Case study 4\"."
     ]
    },
    {
     "cell_type": "code",
     "collapsed": false,
     "input": [],
     "language": "python",
     "metadata": {},
     "outputs": []
    }
   ],
   "metadata": {}
  }
 ]
}