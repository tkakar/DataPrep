{
 "metadata": {
  "name": "",
  "signature": "sha256:6b5b9dce5ecc9e818a80f6b8b10399ac5e08daec23144dddc19ba6d82072421a"
 },
 "nbformat": 3,
 "nbformat_minor": 0,
 "worksheets": [
  {
   "cells": [
    {
     "cell_type": "markdown",
     "metadata": {},
     "source": [
      "#Case Study 3 : Textual analysis of movie reviews\n",
      "** Due Date: October 26, 11:59PM for Tuesday/Friday Section**\n",
      "\n",
      "** Due Date: November 10, 5:30PM for Monday Section**\n",
      "\n",
      "*------------"
     ]
    },
    {
     "cell_type": "markdown",
     "metadata": {},
     "source": [
      "**TEAM Members:** Please EDIT this cell and add the names of all the team members in your team\n",
      "\n",
      "    Chong Zhou (Andy)\n",
      "    \n",
      "    Diana Batista\n",
      "    \n",
      "    Marcus Moyses\n",
      "    \n",
      "    Tabassum Kakar"
     ]
    },
    {
     "cell_type": "markdown",
     "metadata": {},
     "source": [
      "**Desired outcome of the case study.**\n",
      "* In this case study we will look at movie reviews from the v2.0 polarity dataset comes from\n",
      "the http://www.cs.cornell.edu/people/pabo/movie-review-data.\n",
      "    * It contains written reviews of movies divided into positive and negative reviews.\n",
      "* As in Case Study 2 idea is to *analyze* the data set, make *conjectures*, support or refute those conjectures with *data*, and *tell a story* about the data!\n",
      "    \n",
      "**Required Readings:** \n",
      "* This case study will be based upon the scikit-learn Python library\n",
      "* We will build upon the turtorial \"Working With Text Data\" which can be found at http://scikit-learn.org/stable/tutorial/text_analytics/working_with_text_data.html\n",
      "\n",
      "**Case study assumptions:**\n",
      "* You have access to a python installation\n",
      "\n",
      "**Required Python libraries:**\n",
      "* Numpy (www.numpy.org) (should already be installed from Case Study 2)\n",
      "* Matplotlib (matplotlib.org) (should already be installed from Case Study 2)\n",
      "* Scikit-learn (scikit-learn.org) (installation instructions can be found on the web page)\n",
      "\n",
      "** NOTE **\n",
      "* Please don't forget to save the notebook frequently when working in IPython Notebook, otherwise the changes you made can be lost.\n",
      "\n",
      "*----------------------"
     ]
    },
    {
     "cell_type": "markdown",
     "metadata": {},
     "source": [
      "#Problem 1: Complete Exercise 2: Sentiment Analysis on movie reviews from http://scikit-learn.org/stable/tutorial/text_analytics/working_with_text_data.html"
     ]
    },
    {
     "cell_type": "markdown",
     "metadata": {},
     "source": [
      "* Assuming that you have downloaded the scikit-learn source code:\n",
      "    * The data cane be downloaded using doc/tutorial/text_analytics/data/movie_reviews/fetch_data.py\n",
      "    * A skeleton for the solution can be found in doc/tutorial/text_analytics/skeletons/exercise_02_sentiment.py\n",
      "    * A completed solution can be found in doc/tutorial/text_analytics/solutions/exercise_02_sentiment.py\n",
      "* **It is ok to use the solution provided in the scikit-learn distribution as a starting place for your work.**\n",
      "\n",
      "##Modify the solution to Exercise 2 so that it can run in this iPython notebook\n",
      "* This will likely involved moving around data files and/or small modifications to the script."
     ]
    },
    {
     "cell_type": "code",
     "collapsed": false,
     "input": [
      "import os\n",
      "import tarfile\n",
      "try:\n",
      "    from urllib import urlopen\n",
      "except ImportError:\n",
      "    from urllib.request import urlopen\n",
      "\n",
      "URL = ('http://www.cs.cornell.edu/people/pabo/movie-review-data/review_polarity.tar.gz')\n",
      "\n",
      "ARCHIVE_NAME = URL.rsplit('/', 1)[1]\n",
      "DATA_FOLDER = 'txt_sentoken'\n",
      "\n",
      "if not os.path.exists(DATA_FOLDER):\n",
      "\n",
      "    if not os.path.exists(ARCHIVE_NAME):\n",
      "        print('Downloading dataset from %s (3 MB)' % URL)\n",
      "        opener = urlopen(URL)\n",
      "        open(ARCHIVE_NAME, 'wb').write(opener.read())\n",
      "\n",
      "    print('Decompressing %s' % ARCHIVE_NAME)\n",
      "    tarfile.open(ARCHIVE_NAME, \"r:gz\").extractall(path='.')\n",
      "    os.remove(ARCHIVE_NAME)"
     ],
     "language": "python",
     "metadata": {},
     "outputs": [
      {
       "output_type": "stream",
       "stream": "stdout",
       "text": [
        "Downloading dataset from http://www.cs.cornell.edu/people/pabo/movie-review-data/review_polarity.tar.gz (3 MB)\n",
        "Decompressing review_polarity.tar.gz"
       ]
      },
      {
       "output_type": "stream",
       "stream": "stdout",
       "text": [
        "\n"
       ]
      }
     ],
     "prompt_number": 8
    },
    {
     "cell_type": "code",
     "collapsed": false,
     "input": [
      "import sys\n",
      "from sklearn.feature_extraction.text import TfidfVectorizer\n",
      "from sklearn.svm import LinearSVC\n",
      "from sklearn.pipeline import Pipeline\n",
      "from sklearn.grid_search import GridSearchCV\n",
      "from sklearn.datasets import load_files\n",
      "from sklearn.cross_validation import train_test_split\n",
      "from sklearn.neighbors import KNeighborsClassifier\n",
      "from sklearn import metrics\n",
      "\n",
      "movie_reviews_data_folder = 'txt_sentoken'\n",
      "dataset = load_files(movie_reviews_data_folder, shuffle=False)\n",
      "print('n_samples: %d' % len(dataset.data))"
     ],
     "language": "python",
     "metadata": {},
     "outputs": [
      {
       "output_type": "stream",
       "stream": "stdout",
       "text": [
        "n_samples: 2000\n"
       ]
      }
     ],
     "prompt_number": 1
    },
    {
     "cell_type": "code",
     "collapsed": false,
     "input": [
      "# split the dataset in training and test set:\n",
      "docs_train, docs_test, y_train, y_test = train_test_split(dataset.data, dataset.target, test_size=0.25, random_state=None)\n",
      "\n",
      "# Build a vectorizer / classifier pipeline that filters out tokens\n",
      "# that are too rare or too frequent\n",
      "pipeline = Pipeline([\n",
      "  ('vect', TfidfVectorizer(min_df=3, max_df=0.95, ngram_range=(1, 1))),\n",
      "  ('clf', LinearSVC(C=1000))\n",
      "])\n",
      "\n",
      "# Fit the pipeline on the training set using grid search for the parameters\n",
      "parameters = {}\n",
      "grid_search = GridSearchCV(pipeline, parameters, n_jobs=-1)\n",
      "grid_search.fit(docs_train, y_train)\n",
      "\n",
      "# print the cross-validated scores for the each parameters set\n",
      "# explored by the grid search\n",
      "print(grid_search.grid_scores_)\n",
      "\n",
      "# Predict the outcome on the testing set and store it in a variable\n",
      "# named y_predicted\n",
      "y_predicted = grid_search.predict(docs_test)\n",
      "\n",
      "# Print the classification report\n",
      "print(metrics.classification_report(y_test, y_predicted, target_names=dataset.target_names))\n",
      "\n",
      "# Print and plot the confusion matrix\n",
      "cm = metrics.confusion_matrix(y_test, y_predicted)\n",
      "print(cm)"
     ],
     "language": "python",
     "metadata": {},
     "outputs": [
      {
       "output_type": "stream",
       "stream": "stdout",
       "text": [
        "[mean: 0.84133, std: 0.02451, params: {}]\n",
        "             precision    recall  f1-score   support\n",
        "\n",
        "        neg       0.84      0.84      0.84       251\n",
        "        pos       0.84      0.84      0.84       249\n",
        "\n",
        "avg / total       0.84      0.84      0.84       500\n"
       ]
      },
      {
       "output_type": "stream",
       "stream": "stdout",
       "text": [
        "\n",
        "[[212  39]\n",
        " [ 39 210]]\n"
       ]
      }
     ],
     "prompt_number": 2
    },
    {
     "cell_type": "markdown",
     "metadata": {},
     "source": [
      "#Problem 2: Explore the scikit-learn TfidVectorizer class\n",
      "\n",
      "**Read the documentation for the TfidVectorizer class at http://scikit-learn.org/stable/modules/generated/sklearn.feature_extraction.text.TfidfVectorizer.html.** \n",
      "* Define the term frequency\u2013inverse document frequency (TF-IDF) statistic (http://en.wikipedia.org/wiki/Tf%E2%80%93idf will likely help).\n",
      "* Run the TfidVectorizer class on the training data above (docs_train).\n",
      "* Explore the min_df and max_df parameters of TfidVectorizer.  What do they mean? How do they change the features you get?\n",
      "* Explore the ngram_range parameter of TfidVectorizer.  What does it mean? How does it change the features you get? (Note, large values  of ngram_range may take a long time to run!)"
     ]
    },
    {
     "cell_type": "markdown",
     "metadata": {},
     "source": [
      "#TF-IDF:\n",
      "A measure of how relevant a word is to a document in a collection of documents. The TF-IDF statistic of a word gets bigger as the word appears more often inside a document, but is penalized by how common the word is considering the entire collection of documents."
     ]
    },
    {
     "cell_type": "markdown",
     "metadata": {},
     "source": [
      "#min_df and max_df:\n",
      "The parameters min_df and max_df control the threshold of the term frequencies included in the analysis. The values used in problem 1 (min_df=3 and max_df=0.95) mean that for a word to be considered in the analysis it should appear at least 3 times in the document and at most in 95% of the documents in the collection.\n",
      "\n",
      "By changing these 2 parameters we essentially modify the number of features available to create our classification model. The lower the threshold for min_df the more words you consider for analysis as you start to include very uncommon words. Similarly the higher the threshold for max_df the more words are included for analysis as you start to include very common words. A balance must be found when setting these parameters as we definitely don't want to include words that are very common like prepositions, connective words, etc. and we don't want to exclude some adjetives that are uncommon but are really aligned with the sentiment of the text such as awful, adorable, etc."
     ]
    },
    {
     "cell_type": "code",
     "collapsed": false,
     "input": [
      "# Build a vectorizer / classifier pipeline that filters out tokens\n",
      "# that are too rare or too frequent\n",
      "pipeline = Pipeline([\n",
      "  ('vect', TfidfVectorizer(ngram_range=(1, 1))),\n",
      "  ('clf', LinearSVC(C=1000))\n",
      "])\n",
      "\n",
      "# Build a grid search to find out best min_df and max_df.\n",
      "# Fit the pipeline on the training set using grid search for the parameters\n",
      "parameters = { \n",
      "    'vect__min_df': range(1, 5),\n",
      "    'vect__max_df': [0.85, 0.86, 0.87, 0.88, 0.89, 0.9, 0.91, 0.92, 0.93, 0.94, 0.95]\n",
      "}\n",
      "grid_search = GridSearchCV(pipeline, parameters, n_jobs=-1)\n",
      "grid_search.fit(docs_train, y_train)\n",
      "\n",
      "print 'Best parameters for TfidfVectorizer:'\n",
      "best_parameters, score, _ = max(grid_search.grid_scores_, key=lambda x: x[1])\n",
      "for param_name in sorted(parameters.keys()):\n",
      "    print(\"%s: %r\" % (param_name, best_parameters[param_name]))\n",
      "print\n",
      "\n",
      "# Predict the outcome on the testing set and store it in a variable\n",
      "# named y_predicted\n",
      "y_predicted = grid_search.predict(docs_test)\n",
      "\n",
      "# Print the classification report\n",
      "print(metrics.classification_report(y_test, y_predicted, target_names=dataset.target_names))\n",
      "\n",
      "# Print and plot the confusion matrix\n",
      "cm = metrics.confusion_matrix(y_test, y_predicted)\n",
      "print(cm)"
     ],
     "language": "python",
     "metadata": {},
     "outputs": [
      {
       "output_type": "stream",
       "stream": "stdout",
       "text": [
        "Best parameters for TfidfVectorizer:\n",
        "vect__max_df: 0.95\n",
        "vect__min_df: 4\n",
        "\n",
        "             precision    recall  f1-score   support\n",
        "\n",
        "        neg       0.85      0.82      0.83       247\n",
        "        pos       0.83      0.85      0.84       253\n",
        "\n",
        "avg / total       0.84      0.84      0.84       500\n"
       ]
      },
      {
       "output_type": "stream",
       "stream": "stdout",
       "text": [
        "\n",
        "[[203  44]\n",
        " [ 37 216]]\n"
       ]
      }
     ],
     "prompt_number": 3
    },
    {
     "cell_type": "markdown",
     "metadata": {},
     "source": [
      "#ngram-range:\n",
      "This parameter sets the range of combined words that are used as a feature. This is necessary because for some words we need the context to correctly mark it a positive or negative meaning. For instance the \"good\" has generally a positive meaning but if it preceeded by the word \"not\" then it has a negative meaning.\n",
      "Using a ngram-range of (1,2) helps in this case as we would consider \"not good\" as a feature also and not just \"good\"."
     ]
    },
    {
     "cell_type": "code",
     "collapsed": false,
     "input": [
      "# Build a vectorizer / classifier pipeline that filters out tokens\n",
      "# that are too rare or too frequent\n",
      "pipeline = Pipeline([\n",
      "  ('vect', TfidfVectorizer(min_df=4, max_df=0.95)),\n",
      "  ('clf', LinearSVC(C=1000))\n",
      "])\n",
      "\n",
      "# Build a grid search to find out best value for ngram range.\n",
      "# Fit the pipeline on the training set using grid search for the parameters\n",
      "parameters = { 'vect__ngram_range': [(1, 1), (1, 2), (1, 3), (2, 2), (2, 3), (3, 3)] }\n",
      "grid_search = GridSearchCV(pipeline, parameters, n_jobs=-1)\n",
      "grid_search.fit(docs_train, y_train)\n",
      "\n",
      "print 'Best parameters for TfidfVectorizer:'\n",
      "best_parameters, score, _ = max(grid_search.grid_scores_, key=lambda x: x[1])\n",
      "for param_name in sorted(parameters.keys()):\n",
      "    print(\"%s: %r\" % (param_name, best_parameters[param_name]))\n",
      "print\n",
      "\n",
      "# Predict the outcome on the testing set and store it in a variable\n",
      "# named y_predicted\n",
      "y_predicted = grid_search.predict(docs_test)\n",
      "\n",
      "# Print the classification report\n",
      "print(metrics.classification_report(y_test, y_predicted, target_names=dataset.target_names))\n",
      "\n",
      "# Print and plot the confusion matrix\n",
      "cm = metrics.confusion_matrix(y_test, y_predicted)\n",
      "print(cm)"
     ],
     "language": "python",
     "metadata": {},
     "outputs": [
      {
       "output_type": "stream",
       "stream": "stdout",
       "text": [
        "Best parameters for TfidfVectorizer:\n",
        "vect__ngram_range: (1, 3)\n",
        "\n",
        "             precision    recall  f1-score   support\n",
        "\n",
        "        neg       0.85      0.85      0.85       247\n",
        "        pos       0.86      0.86      0.86       253\n",
        "\n",
        "avg / total       0.86      0.86      0.86       500\n"
       ]
      },
      {
       "output_type": "stream",
       "stream": "stdout",
       "text": [
        "\n",
        "[[211  36]\n",
        " [ 36 217]]\n"
       ]
      }
     ],
     "prompt_number": 4
    },
    {
     "cell_type": "markdown",
     "metadata": {},
     "source": [
      "*------------------------\n",
      "\n",
      "#Problem 3: Machine learning algorithms\n"
     ]
    },
    {
     "cell_type": "markdown",
     "metadata": {},
     "source": [
      "* Based upon Problem 2 pick some parameters for TfidfVectorizer\n",
      "    * \"fit\" your TfidfVectorizer using docs_train\n",
      "    * Compute \"Xtrain\", a Tf-idf-weighted document-term matrix using the transform function on docs_train\n",
      "    * Compute \"Xtest\", a Tf-idf-weighted document-term matrix using the transform function on docs_test\n",
      "    * Note, be sure to use the same Tf-idf-weighted class (**\"fit\" using docs_train**) to transform **both** docs_test and docs_train\n",
      "* Examine two classifiers provided by scikit-learn \n",
      "    * LinearSVC\n",
      "    * KNeighborsClassifier\n",
      "    * Try a number of different parameter settings for each and judge your performance using a confusion matrix (see Problem 1 for an example).\n",
      "* Does one classifier, or one set of parameters work better?\n",
      "    * Why do you think it might be working better?\n",
      "* For a particular choice of parameters and classifier, look at 2 examples where the prediction was incorrect.\n",
      "    * Can you conjecture on why the classifier made a mistake for this prediction?"
     ]
    },
    {
     "cell_type": "code",
     "collapsed": false,
     "input": [
      "# Build a vectorizer / classifier pipeline that filters out tokens\n",
      "# that are too rare or too frequent\n",
      "tfidf_vectorizer = TfidfVectorizer(min_df=4, max_df=0.95, ngram_range=(1, 3))\n",
      "\n",
      "# train on docs_test and build XTrain and XTest\n",
      "XTrain = tfidf_vectorizer.fit_transform(docs_train)\n",
      "XTest = tfidf_vectorizer.transform(docs_test)"
     ],
     "language": "python",
     "metadata": {},
     "outputs": [],
     "prompt_number": 5
    },
    {
     "cell_type": "code",
     "collapsed": false,
     "input": [
      "# use LinearSVC to predict classes\n",
      "classifier = LinearSVC()\n",
      "\n",
      "pipeline = Pipeline([\n",
      "  ('clf', classifier)\n",
      "])\n",
      "\n",
      "# Build a grid search to find out the best parameters\n",
      "# Fit the pipeline on the training set using grid search for the parameters\n",
      "parameters = { 'clf__C': range(1, 16000, 1000) }\n",
      "grid_search = GridSearchCV(pipeline, parameters, n_jobs=-1)\n",
      "grid_search.fit(XTrain, y_train)\n",
      "\n",
      "print 'Best parameters for LinearSVC:'\n",
      "best_parameters, score, _ = max(grid_search.grid_scores_, key=lambda x: x[1])\n",
      "for param_name in sorted(parameters.keys()):\n",
      "    print(\"%s: %r\" % (param_name, best_parameters[param_name]))\n",
      "print\n",
      "\n",
      "#classifier.fit(XTrain, y_test)\n",
      "y_predicted = grid_search.predict(XTest)\n",
      "\n",
      "# Print the classification report\n",
      "print(metrics.classification_report(y_test, y_predicted, target_names=dataset.target_names))\n",
      "\n",
      "# Print and plot the confusion matrix\n",
      "cm = metrics.confusion_matrix(y_test, y_predicted)\n",
      "print(cm)"
     ],
     "language": "python",
     "metadata": {},
     "outputs": [
      {
       "output_type": "stream",
       "stream": "stdout",
       "text": [
        "Best parameters for LinearSVC:\n",
        "clf__C: 1001\n",
        "\n",
        "             precision    recall  f1-score   support\n",
        "\n",
        "        neg       0.85      0.85      0.85       247\n",
        "        pos       0.86      0.86      0.86       253\n",
        "\n",
        "avg / total       0.86      0.86      0.86       500\n",
        "\n",
        "[[211  36]\n",
        " [ 36 217]]\n"
       ]
      }
     ],
     "prompt_number": 6
    },
    {
     "cell_type": "code",
     "collapsed": false,
     "input": [
      "# use KNN to predict classes\n",
      "classifier = KNeighborsClassifier()\n",
      "\n",
      "pipeline = Pipeline([\n",
      "  ('clf', classifier)\n",
      "])\n",
      "\n",
      "# Build a grid search to find out the best parameters\n",
      "# Fit the pipeline on the training set using grid search for the parameters\n",
      "parameters = { \n",
      "    'clf__n_neighbors': range(1, 15),\n",
      "    'clf__weights': ('uniform', 'distance')\n",
      "}\n",
      "grid_search = GridSearchCV(pipeline, parameters, n_jobs=-1)\n",
      "grid_search.fit(XTrain, y_train)\n",
      "\n",
      "print 'Best parameters for KNN:'\n",
      "best_parameters, score, _ = max(grid_search.grid_scores_, key=lambda x: x[1])\n",
      "for param_name in sorted(parameters.keys()):\n",
      "    print(\"%s: %r\" % (param_name, best_parameters[param_name]))\n",
      "print\n",
      "\n",
      "#classifier.fit(XTrain, y_test)\n",
      "y_predicted = grid_search.predict(XTest)\n",
      "\n",
      "# Print the classification report\n",
      "print(metrics.classification_report(y_test, y_predicted, target_names=dataset.target_names))\n",
      "\n",
      "# Print and plot the confusion matrix\n",
      "cm = metrics.confusion_matrix(y_test, y_predicted)\n",
      "print(cm)"
     ],
     "language": "python",
     "metadata": {},
     "outputs": [
      {
       "output_type": "stream",
       "stream": "stdout",
       "text": [
        "Best parameters for KNN:\n",
        "clf__n_neighbors: 14\n",
        "clf__weights: 'uniform'\n",
        "\n",
        "             precision    recall  f1-score   support\n",
        "\n",
        "        neg       0.68      0.57      0.62       247\n",
        "        pos       0.64      0.74      0.69       253\n",
        "\n",
        "avg / total       0.66      0.66      0.66       500\n"
       ]
      },
      {
       "output_type": "stream",
       "stream": "stdout",
       "text": [
        "\n",
        "[[141 106]\n",
        " [ 65 188]]\n"
       ]
      }
     ],
     "prompt_number": 7
    },
    {
     "cell_type": "markdown",
     "metadata": {},
     "source": [
      "#Conjecture about the errors:\n",
      "We chose to investigate some errors using LinearSVC since for it gave the best predictions for us (with around 81% accuracy) while still having room for improvement."
     ]
    },
    {
     "cell_type": "code",
     "collapsed": false,
     "input": [
      "# use LinearSVC to predict classes\n",
      "classifier = LinearSVC(C=1001)\n",
      "\n",
      "classifier.fit(XTrain, y_train)\n",
      "y_predicted = classifier.predict(XTest)\n",
      "\n",
      "false_positive_index = -1\n",
      "false_negative_index = -1\n",
      "for i in range(len(y_train)):\n",
      "    if y_test[i] == 0 and y_predicted[i] == 1 and false_positive_index == -1:\n",
      "        false_positive_index = i\n",
      "    if y_test[i] == 1 and y_predicted[i] == 0 and false_negative_index == -1:\n",
      "        false_negative_index = i\n",
      "    if false_positive_index > 0 and false_negative_index > 0:\n",
      "        break\n",
      "\n",
      "print 'Example of false positive:'\n",
      "print docs_test[false_positive_index]\n",
      "print\n",
      "\n",
      "print 'Example of false negative:'\n",
      "print docs_test[false_negative_index]\n",
      "print"
     ],
     "language": "python",
     "metadata": {},
     "outputs": [
      {
       "output_type": "stream",
       "stream": "stdout",
       "text": [
        "Example of false positive:\n",
        "capsule : liebes meets tod . \n",
        "this was a film about sex and death . \n",
        "a morgue attendant accidentally revives a dead woman through necrophilia and brings her into his world which is heavy on orgies . \n",
        "this film says something obscure about the relationship of sex and death , but imparts no insights . \n",
        "to make matter worse this print was poorly subtitled into english from french . \n",
        "0 ( -4 to +4 ) \n",
        "- an attractive 18-year-old dies on a disco floor and gets sent to a morgue . \n",
        "one of the attendants , ben ( jean-marc barr ) is so attracted by her that he attempts necrophilia . \n",
        "we see him crawling away after a shock . \n",
        "in the middle of sex the dead teen has come back to life . \n",
        "- the morgue attendant was just adding a new form of sex to his collection of kinks . \n",
        "he was already part of a group that gets together for s/m sex . \n",
        "the revived teen , teresa ( elodie bouchez ) joins them . \n",
        "- moral dilemma of teresa's father . \n",
        "ben has abused his daughter's body , but in doing so has saved her life . \n",
        "- part of this opaque allegory is a man saved from suicide who joins in the sexual hijinx . \n",
        "also involved is a man in the final stages of dying of aids , a close friend of the morgue attendant . \n",
        "he does not get involved in the orgies . \n",
        "- the subtitles of our print were white , often on a white background making them often hard to read , but i don't think there was a whole lot of meaning there that was lost . \n",
        "- the title means \" don't let me die on a sunday . \" \n",
        "\n",
        "\n",
        "Example of false negative:\n",
        "call 911 for the cliche police if you must , but the eyes are the window to the soul . \n",
        "the finest actors working in films are those who can command the screen with a gaze : paul newman , ralph fiennes , anthony hopkins , morgan freeman . \n",
        "you look at these men on screen and you can tell without them saying a word that there is something going on in their minds , that the characters they play are real human beings . \n",
        "we will never have a chance to discover if tupac shakur could have been a great actor , but he had that unique quality in his eyes . \n",
        "in gridlock'd , an oddly effective combination of gritty drama and social satire , shakur and his co-star tim roth take sketchy characters and make them exciting to watch through the pure energy of their talent and chemistry . \n",
        "shakur and roth play ezekiel \" spoon \" whitmore and alexander \" stretch \" rome , two detroit buddies who share a spoken word/jazz trio , an apartment and a drug addiction with cookie ( thandie newton ) . \n",
        "when a new year's eve party ends with cookie comatose after a drug overdose , spoon and stretch begin to wonder if they are living on borrowed time . \n",
        "they soon make a new year's resolution to get into rehab , but that proves to be easier said than done . \n",
        "as though the temptation to fix were not hindrance enough , spoon and stretch also find their attempts to get clean hitting a road block of bureaucracy , confusion and red tape . \n",
        "the government might be the least of their obstacles , however , as they find themselves suspects in the murder of a drug dealer , and on the run from a nasty thug ( vondie curtis hall ) . \n",
        "in order for you to buy into gridlock'd at all , you have to accept it as a surreal odyssey rather than as urban realism ; unless spoon and stretch sleep through an entire day at the hospital after bringing in cookie , they are going to government offices on new year's day , in which case they should be thankful they get any help at all . \n",
        "gridlock'd may actually be a response to the fatuous social commentary of another urban odyssey , 1991's falling down , which found a besieged middle class white male venting his righteous anger against the system during a trek through inner city los angeles . \n",
        "in falling down , michael douglas' d-fens ( the character's personalized license plate , echoed in gridlock'd by the drug lord d-reper's plates ) whips out a gun because he can't get breakfast at mcdonald's ; in gridlock'd , spoon and stretch are unarmed against the demands placed on them before they can get into a rehab center . \n",
        "and where the unhinged d-fens became a heroic surrogate for audiences , writer/director vondie curtis hall refuses to let spoon and stretch off the hook for their own part in the situation . \n",
        "one bureaucrat responds to a tirade from stretch with the question , \" do you expect the world to stop . . . just \n",
        "because you picked _today_ to clean up ? \" \n",
        "the world in gridlock'd is just as frustrating as the world in falling down , but the cathartic moments yield no easy answers this time . \n",
        "hall has some interesting things to say about what we expect from the system , but perhaps not enough of them . \n",
        "a significant chunk of gridlock'd is devoted to spoon and stretch's flight from d-reper and from the police , and those sub-plots serve up some thoroughly predictable moments . \n",
        "in one scene , stretch scares off d-reper by getting chummy with a police officer ; another presents that old chestnut of the two mistakenly-suspected heroes in a public place watching a television news report of the crime which shows their pictures . \n",
        "the entire sequence of events seems designed merely as an excuse to get spoon and stretch running , while the other primary plot has them standing in line or sitting down much of the time . \n",
        "hall also plays with gratuitous inserts of drug paraphernalia and flashbacks to the day before the film's main events , perhaps making a particular effort to point out the talent the characters are wasting through self-destructive behavior . \n",
        "oh , the irony of it . \n",
        "tupac shakur made a career in music and movies playing the hard case , and living the life to back it up . \n",
        "in gridlock'd , shakur gets the chance to play someone who has seen enough of the way his life could go to know that it scares him . \n",
        "spoon is an idea for a character at best as written by hall , but shakur displays an intelligence and survival instinct which struggle with his addiction . \n",
        "mostly it comes through those eyes , eyes with none of the hardness you might expect from the infamous gangsta . \n",
        "it is spoon who plays conscience to stretch's pure appetite , and roth plays stretch with a gleeful self-destructiveness ( he reveals that he is hiv positive even as he is preparing to shoot up again ) which is as much an obstacle to spoon's goal as any agency or enemy . \n",
        "gridlock'd's most cruelly comic scene finds stretch \" helping \" spoon get into an emergency room by repeatedly stabbing him with a tiny pocket knife , and it becomes an appropriate symbol for how the company he keeps has slowly drained the life out of him . \n",
        "with friends like that , spoon doesn't need enemies , and shakur looks at stretch with the tired eyes of a man who has seen too much . \n",
        "the tragedy now is that we won't get more chances to see those eyes again . \n",
        "\n",
        "\n"
       ]
      }
     ],
     "prompt_number": 8
    },
    {
     "cell_type": "markdown",
     "metadata": {},
     "source": [
      "*------------------------\n",
      "\n",
      "#Problem 4: Open Ended Question:  Finding the right plot"
     ]
    },
    {
     "cell_type": "markdown",
     "metadata": {},
     "source": [
      "* Can you find a two dimensional plot in which the positive and negative reviews are separated?\n",
      "    * This problem is hard since you will likely have thousands of features for review, and you will need to transform these thousands of features into just two numbers (so that you can make a 2D plot).\n",
      "* Note, I was not able to find such a plot myself!\n",
      "    * So, this problem is about **trying** but perhaps **not necessarily succeeding**!\n",
      "* I tried two things, neither of which worked very well.\n",
      "    * I first plotted the length of the review versus the number of features we compute that are in that review\n",
      "    * Second I used Principle Component Analysis on a subset of the features.\n",
      "* Can you do better than I did!?"
     ]
    },
    {
     "cell_type": "code",
     "collapsed": false,
     "input": [
      "from sklearn.feature_selection import SelectKBest\n",
      "from sklearn.feature_selection import chi2\n",
      "import matplotlib.pylab as py\n",
      "\n",
      "tfidf_vectorizer = TfidfVectorizer(min_df=4, max_df=0.95, ngram_range=(1, 3))\n",
      "\n",
      "# train on docs_test and build XTrain and XTest\n",
      "XTrain = tfidf_vectorizer.fit_transform(docs_train)\n",
      "XTest = tfidf_vectorizer.transform(docs_test)\n",
      "\n",
      "features = tfidf_vectorizer.get_feature_names()\n",
      "\n",
      "selector = SelectKBest(chi2, k=2)\n",
      "X_train = selector.fit_transform(XTrain, y_train)\n",
      "X_test = selector.transform(XTest)\n",
      "\n",
      "support = selector.get_support()\n",
      "print 'The most important features are:'\n",
      "for i in range(len(support)):\n",
      "    if support[i]:\n",
      "        print features[i]\n",
      "print\n",
      "\n",
      "X = X_train.toarray()\n",
      "Xte = X_test.toarray()\n",
      "\n",
      "# negative\n",
      "py.plot(X[y_train==0,0], X[y_train==0,1],'r.')\n",
      "py.plot(Xte[y_test==0,0], Xte[y_test==0,1],'r.')\n",
      "# positive\n",
      "py.plot(X[y_train==1,0], X[y_train==1,1],'g.')\n",
      "py.plot(Xte[y_test==1,0], Xte[y_test==1,1],'g.')\n",
      "py.show()"
     ],
     "language": "python",
     "metadata": {},
     "outputs": [
      {
       "output_type": "stream",
       "stream": "stdout",
       "text": [
        "The most important features are:\n",
        "bad\n",
        "mulan\n",
        "\n"
       ]
      },
      {
       "metadata": {},
       "output_type": "display_data",
       "png": "[encoded data removed]",
       "text": [
        "<matplotlib.figure.Figure at 0x15ac0c90>"
       ]
      }
     ],
     "prompt_number": 10
    },
    {
     "cell_type": "code",
     "collapsed": false,
     "input": [
      "from sklearn.decomposition import PCA\n",
      "\n",
      "pca = PCA(n_components=2)\n",
      "X_r = pca.fit_transform(XTrain.toarray())\n",
      "\n",
      "target_names = dataset.target_names\n",
      "\n",
      "plt.figure()\n",
      "for c, i, target_name in zip(\"rgb\", [0, 1], target_names):\n",
      "    plt.scatter(X_r[y_train == i, 0], X_r[y_train == i, 1], c=c, label=target_name)\n",
      "plt.legend()\n",
      "plt.title('PCA of movie reviews (training data)')\n",
      "\n",
      "plt.show()"
     ],
     "language": "python",
     "metadata": {},
     "outputs": [
      {
       "metadata": {},
       "output_type": "display_data",
       "png": "[encoded data removed]",
       "text": [
        "<matplotlib.figure.Figure at 0x144e5bd0>"
       ]
      }
     ],
     "prompt_number": 20
    },
    {
     "cell_type": "code",
     "collapsed": false,
     "input": [
      "from sklearn.cross_decomposition import PLSRegression\n",
      "\n",
      "pls = PLSRegression(n_components=2, scale=True)\n",
      "pls.fit(XTrain.toarray(), y_train)\n",
      "X_trained = pls.transform(XTrain.toarray())\n",
      "X_tested = pls.transform(XTest.toarray())\n",
      "\n",
      "target_names = dataset.target_names\n",
      "\n",
      "plt.figure()\n",
      "for c, i, target_name in zip(\"rgb\", [0, 1], target_names):\n",
      "    plt.scatter(X_trained[y_train == i, 0], X_trained[y_train == i, 1], c=c, label=target_name)\n",
      "plt.legend()\n",
      "plt.title('PLS of movie reviews (training data)')\n",
      "\n",
      "plt.figure()\n",
      "for c, i, target_name in zip(\"rgb\", [0, 1], target_names):\n",
      "    plt.scatter(X_tested[y_test == i, 0], X_tested[y_test == i, 1], c=c, label=target_name)\n",
      "plt.legend()\n",
      "plt.title('PLS of movie reviews (test data)')\n",
      "\n",
      "plt.show()"
     ],
     "language": "python",
     "metadata": {},
     "outputs": [
      {
       "metadata": {},
       "output_type": "display_data",
       "png": "[encoded data removed]",
       "text": [
        "<matplotlib.figure.Figure at 0x1824f2d0>"
       ]
      },
      {
       "metadata": {},
       "output_type": "display_data",
       "png": "[encoded data removed]",
       "text": [
        "<matplotlib.figure.Figure at 0xfa9e850>"
       ]
      }
     ],
     "prompt_number": 19
    },
    {
     "cell_type": "markdown",
     "metadata": {},
     "source": [
      "*-----------------\n",
      "# Done\n",
      "\n",
      "All set! \n",
      "\n",
      "** What do you need to submit?**\n",
      "\n",
      "* **Notebook File**: Save this IPython notebook, and find the notebook file in your folder (for example, \"filename.ipynb\"). This is the file you need to submit. Please make sure all the plotted tables and figures are in the notebook. If you used \"ipython notebook --pylab=inline\" to open the notebook, all the figures and tables should have shown up in the notebook.\n",
      "\n",
      "\n",
      "* **PPT Slides**: please prepare PPT slides (for 10 minutes' talk) to present about the case study . We will ask two teams which are randomly selected to present their case studies in class for this case study. \n",
      "\n",
      "* ** Report**: please prepare a report (less than 10 pages) to report what you found in the data.\n",
      "    * How did you analyse the data?\n",
      "    * What did you find in the data? \n",
      "    * What classifier worked better?\n",
      "    * Which parameters worked better?\n",
      "    * Did you come up with a good plot?\n",
      "\n",
      "     (please include figures or tables in the report, but no source code)\n",
      "\n",
      "Please compress all the files in a zipped file.\n",
      "\n",
      "\n",
      "** How to submit: **\n",
      "\n",
      "        Send an email to rcpaffenroth@wpi.edu with the subject: \"[DS501_f14a] Case study 3\"."
     ]
    }
   ],
   "metadata": {}
  }
 ]
}